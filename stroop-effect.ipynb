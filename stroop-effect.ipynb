{
 "cells": [
  {
   "cell_type": "code",
   "execution_count": 2,
   "metadata": {
    "collapsed": true
   },
   "outputs": [],
   "source": [
    "## Armindo S. Cuamba\n",
    "#In this project we use python, seaborn and pandas\n",
    "## The seabor is used for data visualization.\n",
    "import numpy as np\n",
    "import pandas as pd\n",
    "from pandas import Series, DataFrame\n",
    "import matplotlib.pyplot as plt\n",
    "import seaborn as sns\n",
    "%matplotlib inline"
   ]
  },
  {
   "cell_type": "code",
   "execution_count": 3,
   "metadata": {},
   "outputs": [],
   "source": [
    "## the file was download and copied into the working  directory\n",
    "stroop_data = pd.read_csv('stroopdata.csv')"
   ]
  },
  {
   "cell_type": "code",
   "execution_count": 99,
   "metadata": {
    "scrolled": true
   },
   "outputs": [
    {
     "data": {
      "text/plain": [
       "<bound method DataFrame.info of     Congruent  Incongruent  congruent-incogruent\n",
       "0      12.079       19.278                -7.199\n",
       "1      16.791       18.741                -1.950\n",
       "2       9.564       21.214               -11.650\n",
       "3       8.630       15.687                -7.057\n",
       "4      14.669       22.803                -8.134\n",
       "5      12.238       20.878                -8.640\n",
       "6      14.692       24.572                -9.880\n",
       "7       8.987       17.394                -8.407\n",
       "8       9.401       20.762               -11.361\n",
       "9      14.480       26.282               -11.802\n",
       "10     22.328       24.524                -2.196\n",
       "11     15.298       18.644                -3.346\n",
       "12     15.073       17.510                -2.437\n",
       "13     16.929       20.330                -3.401\n",
       "14     18.200       35.255               -17.055\n",
       "15     12.130       22.158               -10.028\n",
       "16     18.495       25.139                -6.644\n",
       "17     10.639       20.429                -9.790\n",
       "18     11.344       17.425                -6.081\n",
       "19     12.369       34.288               -21.919\n",
       "20     12.944       23.894               -10.950\n",
       "21     14.233       17.960                -3.727\n",
       "22     19.710       22.058                -2.348\n",
       "23     16.004       21.157                -5.153>"
      ]
     },
     "execution_count": 99,
     "metadata": {},
     "output_type": "execute_result"
    }
   ],
   "source": [
    "## to see the values in the stroopdata.csv file\n",
    "stroop_data.info"
   ]
  },
  {
   "cell_type": "code",
   "execution_count": 5,
   "metadata": {},
   "outputs": [
    {
     "data": {
      "text/plain": [
       "0     12.079\n",
       "1     16.791\n",
       "2      9.564\n",
       "3      8.630\n",
       "4     14.669\n",
       "5     12.238\n",
       "6     14.692\n",
       "7      8.987\n",
       "8      9.401\n",
       "9     14.480\n",
       "10    22.328\n",
       "11    15.298\n",
       "12    15.073\n",
       "13    16.929\n",
       "14    18.200\n",
       "15    12.130\n",
       "16    18.495\n",
       "17    10.639\n",
       "18    11.344\n",
       "19    12.369\n",
       "20    12.944\n",
       "21    14.233\n",
       "22    19.710\n",
       "23    16.004\n",
       "Name: Congruent, dtype: float64"
      ]
     },
     "execution_count": 5,
     "metadata": {},
     "output_type": "execute_result"
    }
   ],
   "source": [
    "## there two column for congruent and incogruent time intervals of the ixperinece\n",
    "##we can separate the two column into two distint dateframe\n",
    "Congruent=stroop_data.Congruent\n",
    "Congruent  ## to read all the column values"
   ]
  },
  {
   "cell_type": "code",
   "execution_count": 6,
   "metadata": {},
   "outputs": [
    {
     "data": {
      "text/plain": [
       "0    19.278\n",
       "1    18.741\n",
       "2    21.214\n",
       "3    15.687\n",
       "4    22.803\n",
       "Name: Incongruent, dtype: float64"
      ]
     },
     "execution_count": 6,
     "metadata": {},
     "output_type": "execute_result"
    }
   ],
   "source": [
    "Incongruent=stroop_data.Incongruent\n",
    "Incongruent.head() # to read initial column values"
   ]
  },
  {
   "cell_type": "code",
   "execution_count": 60,
   "metadata": {},
   "outputs": [
    {
     "name": "stdout",
     "output_type": "stream",
     "text": [
      "(14.051125000000004, 14.3565, 3.5593579576451955, 12.669029070652176)\n"
     ]
    }
   ],
   "source": [
    "### (3333333333333) \n",
    "###Report some descriptive statistics regarding this dataset. \n",
    "### Include at least one measure of central tendency and at least one measure of variability. \n",
    "##The name of the data file is 'stroopdata.csv'.\n",
    "\n",
    "### Congruent###\n",
    "###mean value\n",
    "me_co=np.mean(Congruent)\n",
    "\n",
    "###median values\n",
    "np.median(Congruent)\n",
    "\n",
    "###Variance############   N-1=len(Congruent)-1=23\n",
    "Variance_Congruent=np.sum([(xi-np.mean(Congruent))**2 for xi in Congruent])/(len(Congruent)-1)\n",
    "\n",
    "###sample standard variantion\n",
    "standard_deviation=np.sqrt(Variance_Congruent)\n",
    "###call python to print the results\n",
    "print(np.mean(Congruent),np.median(Congruent),standard_deviation,Variance_Congruent)"
   ]
  },
  {
   "cell_type": "code",
   "execution_count": 61,
   "metadata": {},
   "outputs": [
    {
     "name": "stdout",
     "output_type": "stream",
     "text": [
      "(22.01591666666667, 21.017499999999998, 4.7970571224691376, 23.011757036231884)\n"
     ]
    }
   ],
   "source": [
    "### Incongruent###\n",
    "###mean value\n",
    "me_co=np.mean(Incongruent)\n",
    "\n",
    "###median values\n",
    "np.median(Incongruent)\n",
    "\n",
    "###Variance############\n",
    "Variance_Incongruent=np.sum([(xi-np.mean(Incongruent))**2 for xi in Incongruent])/(len(Incongruent)-1)\n",
    "\n",
    "###sample standard variantion\n",
    "standard_deviation=np.sqrt(Variance_Incongruent)\n",
    "\n",
    "###call python to print the results\n",
    "print(np.mean(Incongruent),np.median(Incongruent),standard_deviation,Variance_Incongruent)"
   ]
  },
  {
   "cell_type": "code",
   "execution_count": 13,
   "metadata": {},
   "outputs": [
    {
     "data": {
      "text/plain": [
       "(array([ 1.,  0.,  4.,  2.,  1.,  2.,  4.,  2.,  1.,  0.,  3.,  1.,  1.,\n",
       "         0.,  0.,  0.,  0.,  0.,  0.,  0.,  0.,  0.,  1.,  1.]),\n",
       " array([ 15.687     ,  16.50233333,  17.31766667,  18.133     ,\n",
       "         18.94833333,  19.76366667,  20.579     ,  21.39433333,\n",
       "         22.20966667,  23.025     ,  23.84033333,  24.65566667,\n",
       "         25.471     ,  26.28633333,  27.10166667,  27.917     ,\n",
       "         28.73233333,  29.54766667,  30.363     ,  31.17833333,\n",
       "         31.99366667,  32.809     ,  33.62433333,  34.43966667,  35.255     ]),\n",
       " <a list of 24 Patch objects>)"
      ]
     },
     "execution_count": 13,
     "metadata": {},
     "output_type": "execute_result"
    },
    {
     "data": {
      "image/png": "[encoded data removed]",
      "text/plain": [
       "<matplotlib.figure.Figure at 0x11022c990>"
      ]
     },
     "metadata": {},
     "output_type": "display_data"
    }
   ],
   "source": [
    "#### (44444444444444) \n",
    "####Provide one or two visualizations that show the distribution of the sample data. \n",
    "#### Write one or two sentences noting what you observe about the plot or plots.\n",
    "plt.hist(Congruent,color='indianred',alpha=0.5,bins=24)\n",
    "plt.hist(Incongruent,alpha=0.5,bins=24) ## we use 24 bins becouse we have 24 data points for each column"
   ]
  },
  {
   "cell_type": "code",
   "execution_count": null,
   "metadata": {
    "collapsed": true
   },
   "outputs": [],
   "source": []
  },
  {
   "cell_type": "code",
   "execution_count": 14,
   "metadata": {},
   "outputs": [
    {
     "data": {
      "text/plain": [
       "<seaborn.axisgrid.JointGrid at 0x10fcbbe50>"
      ]
     },
     "execution_count": 14,
     "metadata": {},
     "output_type": "execute_result"
    },
    {
     "data": {
      "image/png": "[encoded data removed]",
      "text/plain": [
       "<matplotlib.figure.Figure at 0x10fcbb390>"
      ]
     },
     "metadata": {},
     "output_type": "display_data"
    }
   ],
   "source": [
    "####joint distribution of the two data set\n",
    "sns.jointplot(Congruent,Incongruent)"
   ]
  },
  {
   "cell_type": "code",
   "execution_count": 15,
   "metadata": {},
   "outputs": [
    {
     "data": {
      "text/plain": [
       "<matplotlib.axes._subplots.AxesSubplot at 0x1a191ecf90>"
      ]
     },
     "execution_count": 15,
     "metadata": {},
     "output_type": "execute_result"
    },
    {
     "data": {
      "image/png": "[encoded data removed]",
      "text/plain": [
       "<matplotlib.figure.Figure at 0x110666a90>"
      ]
     },
     "metadata": {},
     "output_type": "display_data"
    }
   ],
   "source": [
    "####Kernel distribution of the Congruent data set\n",
    "sns.kdeplot(Congruent)"
   ]
  },
  {
   "cell_type": "code",
   "execution_count": 16,
   "metadata": {},
   "outputs": [
    {
     "data": {
      "text/plain": [
       "<matplotlib.axes._subplots.AxesSubplot at 0x1106e0690>"
      ]
     },
     "execution_count": 16,
     "metadata": {},
     "output_type": "execute_result"
    },
    {
     "data": {
      "image/png": "[encoded data removed]",
      "text/plain": [
       "<matplotlib.figure.Figure at 0x1a19210ad0>"
      ]
     },
     "metadata": {},
     "output_type": "display_data"
    }
   ],
   "source": [
    "####Kernel distribution of the Incongruent data set\n",
    "sns.kdeplot(Incongruent)"
   ]
  },
  {
   "cell_type": "code",
   "execution_count": 17,
   "metadata": {
    "collapsed": true
   },
   "outputs": [],
   "source": [
    "var_inco=np.var(Incongruent)"
   ]
  },
  {
   "cell_type": "code",
   "execution_count": 18,
   "metadata": {},
   "outputs": [
    {
     "data": {
      "text/plain": [
       "22.05293382638889"
      ]
     },
     "execution_count": 18,
     "metadata": {},
     "output_type": "execute_result"
    }
   ],
   "source": [
    "var_inco"
   ]
  },
  {
   "cell_type": "code",
   "execution_count": 19,
   "metadata": {
    "collapsed": true
   },
   "outputs": [],
   "source": [
    "#####   (5) Now, perform the statistical test and report the results. \n",
    "#####   What is the confidence level and your critical statistic value? \n",
    "#####   Do you reject the null hypothesis or fail to reject it? \n",
    "#####   Come to a conclusion in terms of the experiment task. Did the results match up with your expectations?\n",
    "\n",
    "from scipy import stats\n",
    "import math"
   ]
  },
  {
   "cell_type": "code",
   "execution_count": 93,
   "metadata": {},
   "outputs": [
    {
     "name": "stdout",
     "output_type": "stream",
     "text": [
      "(-7.964791666666665, 4.8648269103590556, 23.666540867753632)\n"
     ]
    }
   ],
   "source": [
    "### Congruent###\n",
    "###mean value difference\n",
    "mean_difference_congruent_incogruent=np.mean(Congruent)-np.mean(Incongruent)\n",
    "congruent_incogruent=Congruent-Incongruent \n",
    "\n",
    "###Variance of the difference############   N-1=len(Congruent)-1=23\n",
    "Variance_dif=np.sum([(xi-mean_difference_congruent_incogruent)**2 for xi in congruent_incogruent ])/(len(Congruent)-1)\n",
    "\n",
    "###sample standard variantion\n",
    "standard_deviation_dif=np.sqrt(Variance_dif)\n",
    "\n",
    "###call python to print the results\n",
    "print(mean_difference_congruent_incogruent,standard_deviation_dif,Variance_dif)"
   ]
  },
  {
   "cell_type": "code",
   "execution_count": 98,
   "metadata": {},
   "outputs": [
    {
     "name": "stdout",
     "output_type": "stream",
     "text": [
      "(-7.964791666666665, 4.8648269103590556, 23.666540867753632, -8.0207069441099552)\n"
     ]
    }
   ],
   "source": [
    "t_test= (np.mean(Congruent)-np.mean(Incongruent) )/(standard_deviation_dif/np.sqrt(len(Congruent)))\n",
    "\n",
    "print(mean_difference_congruent_incogruent,standard_deviation_dif,Variance_dif,t_test)\n",
    "\n"
   ]
  }
 ],
 "metadata": {
  "kernelspec": {
   "display_name": "Python 3",
   "language": "python",
   "name": "python3"
  },
  "language_info": {
   "codemirror_mode": {
    "name": "ipython",
    "version": 3
   },
   "file_extension": ".py",
   "mimetype": "text/x-python",
   "name": "python",
   "nbconvert_exporter": "python",
   "pygments_lexer": "ipython3",
   "version": "3.6.4"
  }
 },
 "nbformat": 4,
 "nbformat_minor": 2
}
